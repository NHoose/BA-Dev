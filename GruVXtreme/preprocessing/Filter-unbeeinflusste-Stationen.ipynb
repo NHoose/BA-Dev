{
 "metadata": {
  "language_info": {
   "codemirror_mode": {
    "name": "ipython",
    "version": 3
   },
   "file_extension": ".py",
   "mimetype": "text/x-python",
   "name": "python",
   "nbconvert_exporter": "python",
   "pygments_lexer": "ipython3",
   "version": "3.7.6-final"
  },
  "orig_nbformat": 2,
  "kernelspec": {
   "name": "python3",
   "display_name": "Python 3",
   "language": "python"
  }
 },
 "nbformat": 4,
 "nbformat_minor": 2,
 "cells": [
  {
   "source": [
    "# Ermitteln der anthropogen unbeeinflussten Stationen"
   ],
   "cell_type": "markdown",
   "metadata": {}
  },
  {
   "cell_type": "code",
   "execution_count": 2,
   "metadata": {},
   "outputs": [],
   "source": [
    "import glob\n",
    "import os\n",
    "import pandas as pd"
   ]
  },
  {
   "cell_type": "code",
   "execution_count": 3,
   "metadata": {},
   "outputs": [],
   "source": [
    "data_drive = r'G:/'\n",
    "files = glob.glob(data_drive + r'GruV-Net/data/anthropogen-unbeeinflusste-Messstellen/*')"
   ]
  },
  {
   "cell_type": "code",
   "execution_count": 10,
   "metadata": {},
   "outputs": [],
   "source": [
    "df = pd.concat((pd.read_csv(f, header=0) for f in files), ignore_index=True)"
   ]
  },
  {
   "cell_type": "code",
   "execution_count": 15,
   "metadata": {},
   "outputs": [],
   "source": [
    "df_HE = df.ProjID[df.ProjID.str.contains(\"HE\")]"
   ]
  },
  {
   "cell_type": "code",
   "execution_count": 16,
   "metadata": {},
   "outputs": [
    {
     "output_type": "execute_result",
     "data": {
      "text/plain": [
       "0        HE_9523\n",
       "1       HE_10223\n",
       "2        HE_8872\n",
       "3       HE_10225\n",
       "4        HE_9482\n",
       "          ...   \n",
       "1105     HE_8999\n",
       "1106     HE_8957\n",
       "1107     HE_6362\n",
       "1108    HE_15651\n",
       "1109     HE_6156\n",
       "Name: ProjID, Length: 329, dtype: object"
      ]
     },
     "metadata": {},
     "execution_count": 16
    }
   ],
   "source": [
    "df_HE"
   ]
  },
  {
   "cell_type": "code",
   "execution_count": 18,
   "metadata": {},
   "outputs": [],
   "source": [
    "df_HE.to_csv(data_drive + r'GruV-Net/data/anthropogen-unbeeinflusste-Messstellen/HE_complete.csv', index=False)"
   ]
  }
 ]
}