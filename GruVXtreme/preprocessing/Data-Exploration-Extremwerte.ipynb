{
 "metadata": {
  "language_info": {
   "codemirror_mode": {
    "name": "ipython",
    "version": 3
   },
   "file_extension": ".py",
   "mimetype": "text/x-python",
   "name": "python",
   "nbconvert_exporter": "python",
   "pygments_lexer": "ipython3",
   "version": "3.7.6-final"
  },
  "orig_nbformat": 2,
  "kernelspec": {
   "name": "python3",
   "display_name": "Python 3",
   "language": "python"
  }
 },
 "nbformat": 4,
 "nbformat_minor": 2,
 "cells": [
  {
   "source": [
    "# Extremwertermittlung\n",
    "Es soll die Anzahl und Verteilung von extremen Grundwasserstandsänderungen untersucht werden.\n",
    "\n",
    "Als extrem zählen dabei die 5% stärksten Anstiege und 5% stärksten Abstiege pro Station."
   ],
   "cell_type": "markdown",
   "metadata": {}
  },
  {
   "source": [
    "import numpy as np\n",
    "import pandas as pd\n",
    "import matplotlib.pyplot as plt\n",
    "import datetime"
   ],
   "cell_type": "code",
   "metadata": {},
   "execution_count": 1,
   "outputs": []
  },
  {
   "cell_type": "code",
   "execution_count": 2,
   "metadata": {},
   "outputs": [],
   "source": [
    "data_drive = r'G:/'"
   ]
  },
  {
   "cell_type": "code",
   "execution_count": 3,
   "metadata": {},
   "outputs": [],
   "source": [
    "stammdaten = pd.read_excel(data_drive +r'GruV-Net/data/Stammdaten_HE.xlsx')\n",
    "stammdaten.set_index('Proj_ID', inplace=True)\n",
    "gw_lvl = pd.read_csv(data_drive +r'GruV-Net/data/groundwater_levels_preprocessed_hesse/weekly/gw_lvl_complete.csv')\n",
    "gw_lvl.Datum = pd.to_datetime(gw_lvl.Datum)\n",
    "gw_lvl.set_index('Datum', inplace=True)"
   ]
  },
  {
   "cell_type": "code",
   "execution_count": 4,
   "metadata": {},
   "outputs": [
    {
     "output_type": "execute_result",
     "data": {
      "text/plain": [
       "            HE_10007  HE_10021  HE_10022  HE_10023  HE_10025  HE_10026  \\\n",
       "Datum                                                                    \n",
       "1911-04-10       NaN       NaN       NaN       NaN       NaN       NaN   \n",
       "1911-04-17       NaN       NaN       NaN       NaN       NaN       NaN   \n",
       "1911-04-24       NaN       NaN       NaN       NaN       NaN       NaN   \n",
       "1911-05-01       NaN       NaN       NaN       NaN       NaN       NaN   \n",
       "1911-05-08       NaN       NaN       NaN       NaN       NaN       NaN   \n",
       "...              ...       ...       ...       ...       ...       ...   \n",
       "2018-10-29       NaN       NaN       NaN       NaN       NaN       NaN   \n",
       "2018-11-05       NaN       NaN       NaN       NaN       NaN       NaN   \n",
       "2018-11-12       NaN       NaN       NaN       NaN       NaN       NaN   \n",
       "2018-11-19       NaN       NaN       NaN       NaN       NaN       NaN   \n",
       "2018-11-26       NaN       NaN       NaN       NaN       NaN       NaN   \n",
       "\n",
       "            HE_10034  HE_10041  HE_10042  HE_10047  ...  HE_9957  HE_9958  \\\n",
       "Datum                                               ...                     \n",
       "1911-04-10       NaN       NaN       NaN       NaN  ...      NaN      NaN   \n",
       "1911-04-17       NaN       NaN       NaN       NaN  ...      NaN      NaN   \n",
       "1911-04-24       NaN       NaN       NaN       NaN  ...      NaN      NaN   \n",
       "1911-05-01       NaN       NaN       NaN       NaN  ...      NaN      NaN   \n",
       "1911-05-08       NaN       NaN       NaN       NaN  ...      NaN      NaN   \n",
       "...              ...       ...       ...       ...  ...      ...      ...   \n",
       "2018-10-29       NaN       NaN       NaN       NaN  ...      NaN      NaN   \n",
       "2018-11-05       NaN       NaN       NaN       NaN  ...      NaN      NaN   \n",
       "2018-11-12       NaN       NaN       NaN       NaN  ...      NaN      NaN   \n",
       "2018-11-19       NaN       NaN       NaN       NaN  ...      NaN      NaN   \n",
       "2018-11-26       NaN       NaN       NaN       NaN  ...      NaN      NaN   \n",
       "\n",
       "            HE_9959  HE_9961  HE_9969  HE_9974  HE_9977  HE_9980  HE_9984  \\\n",
       "Datum                                                                       \n",
       "1911-04-10      NaN      NaN      NaN      NaN      NaN      NaN      NaN   \n",
       "1911-04-17      NaN      NaN      NaN      NaN      NaN      NaN      NaN   \n",
       "1911-04-24      NaN      NaN      NaN      NaN      NaN      NaN      NaN   \n",
       "1911-05-01      NaN      NaN      NaN      NaN      NaN      NaN      NaN   \n",
       "1911-05-08      NaN      NaN      NaN      NaN      NaN      NaN      NaN   \n",
       "...             ...      ...      ...      ...      ...      ...      ...   \n",
       "2018-10-29      NaN      NaN      NaN      NaN      NaN      NaN      NaN   \n",
       "2018-11-05      NaN      NaN      NaN      NaN      NaN      NaN      NaN   \n",
       "2018-11-12      NaN      NaN      NaN      NaN      NaN      NaN      NaN   \n",
       "2018-11-19      NaN      NaN      NaN      NaN      NaN      NaN      NaN   \n",
       "2018-11-26      NaN      NaN      NaN      NaN      NaN      NaN      NaN   \n",
       "\n",
       "            HE_9987  \n",
       "Datum                \n",
       "1911-04-10      NaN  \n",
       "1911-04-17      NaN  \n",
       "1911-04-24      NaN  \n",
       "1911-05-01      NaN  \n",
       "1911-05-08      NaN  \n",
       "...             ...  \n",
       "2018-10-29      NaN  \n",
       "2018-11-05      NaN  \n",
       "2018-11-12      NaN  \n",
       "2018-11-19      NaN  \n",
       "2018-11-26      NaN  \n",
       "\n",
       "[5617 rows x 1268 columns]"
      ],
      "text/html": "<div>\n<style scoped>\n    .dataframe tbody tr th:only-of-type {\n        vertical-align: middle;\n    }\n\n    .dataframe tbody tr th {\n        vertical-align: top;\n    }\n\n    .dataframe thead th {\n        text-align: right;\n    }\n</style>\n<table border=\"1\" class=\"dataframe\">\n  <thead>\n    <tr style=\"text-align: right;\">\n      <th></th>\n      <th>HE_10007</th>\n      <th>HE_10021</th>\n      <th>HE_10022</th>\n      <th>HE_10023</th>\n      <th>HE_10025</th>\n      <th>HE_10026</th>\n      <th>HE_10034</th>\n      <th>HE_10041</th>\n      <th>HE_10042</th>\n      <th>HE_10047</th>\n      <th>...</th>\n      <th>HE_9957</th>\n      <th>HE_9958</th>\n      <th>HE_9959</th>\n      <th>HE_9961</th>\n      <th>HE_9969</th>\n      <th>HE_9974</th>\n      <th>HE_9977</th>\n      <th>HE_9980</th>\n      <th>HE_9984</th>\n      <th>HE_9987</th>\n    </tr>\n    <tr>\n      <th>Datum</th>\n      <th></th>\n      <th></th>\n      <th></th>\n      <th></th>\n      <th></th>\n      <th></th>\n      <th></th>\n      <th></th>\n      <th></th>\n      <th></th>\n      <th></th>\n      <th></th>\n      <th></th>\n      <th></th>\n      <th></th>\n      <th></th>\n      <th></th>\n      <th></th>\n      <th></th>\n      <th></th>\n      <th></th>\n    </tr>\n  </thead>\n  <tbody>\n    <tr>\n      <th>1911-04-10</th>\n      <td>NaN</td>\n      <td>NaN</td>\n      <td>NaN</td>\n      <td>NaN</td>\n      <td>NaN</td>\n      <td>NaN</td>\n      <td>NaN</td>\n      <td>NaN</td>\n      <td>NaN</td>\n      <td>NaN</td>\n      <td>...</td>\n      <td>NaN</td>\n      <td>NaN</td>\n      <td>NaN</td>\n      <td>NaN</td>\n      <td>NaN</td>\n      <td>NaN</td>\n      <td>NaN</td>\n      <td>NaN</td>\n      <td>NaN</td>\n      <td>NaN</td>\n    </tr>\n    <tr>\n      <th>1911-04-17</th>\n      <td>NaN</td>\n      <td>NaN</td>\n      <td>NaN</td>\n      <td>NaN</td>\n      <td>NaN</td>\n      <td>NaN</td>\n      <td>NaN</td>\n      <td>NaN</td>\n      <td>NaN</td>\n      <td>NaN</td>\n      <td>...</td>\n      <td>NaN</td>\n      <td>NaN</td>\n      <td>NaN</td>\n      <td>NaN</td>\n      <td>NaN</td>\n      <td>NaN</td>\n      <td>NaN</td>\n      <td>NaN</td>\n      <td>NaN</td>\n      <td>NaN</td>\n    </tr>\n    <tr>\n      <th>1911-04-24</th>\n      <td>NaN</td>\n      <td>NaN</td>\n      <td>NaN</td>\n      <td>NaN</td>\n      <td>NaN</td>\n      <td>NaN</td>\n      <td>NaN</td>\n      <td>NaN</td>\n      <td>NaN</td>\n      <td>NaN</td>\n      <td>...</td>\n      <td>NaN</td>\n      <td>NaN</td>\n      <td>NaN</td>\n      <td>NaN</td>\n      <td>NaN</td>\n      <td>NaN</td>\n      <td>NaN</td>\n      <td>NaN</td>\n      <td>NaN</td>\n      <td>NaN</td>\n    </tr>\n    <tr>\n      <th>1911-05-01</th>\n      <td>NaN</td>\n      <td>NaN</td>\n      <td>NaN</td>\n      <td>NaN</td>\n      <td>NaN</td>\n      <td>NaN</td>\n      <td>NaN</td>\n      <td>NaN</td>\n      <td>NaN</td>\n      <td>NaN</td>\n      <td>...</td>\n      <td>NaN</td>\n      <td>NaN</td>\n      <td>NaN</td>\n      <td>NaN</td>\n      <td>NaN</td>\n      <td>NaN</td>\n      <td>NaN</td>\n      <td>NaN</td>\n      <td>NaN</td>\n      <td>NaN</td>\n    </tr>\n    <tr>\n      <th>1911-05-08</th>\n      <td>NaN</td>\n      <td>NaN</td>\n      <td>NaN</td>\n      <td>NaN</td>\n      <td>NaN</td>\n      <td>NaN</td>\n      <td>NaN</td>\n      <td>NaN</td>\n      <td>NaN</td>\n      <td>NaN</td>\n      <td>...</td>\n      <td>NaN</td>\n      <td>NaN</td>\n      <td>NaN</td>\n      <td>NaN</td>\n      <td>NaN</td>\n      <td>NaN</td>\n      <td>NaN</td>\n      <td>NaN</td>\n      <td>NaN</td>\n      <td>NaN</td>\n    </tr>\n    <tr>\n      <th>...</th>\n      <td>...</td>\n      <td>...</td>\n      <td>...</td>\n      <td>...</td>\n      <td>...</td>\n      <td>...</td>\n      <td>...</td>\n      <td>...</td>\n      <td>...</td>\n      <td>...</td>\n      <td>...</td>\n      <td>...</td>\n      <td>...</td>\n      <td>...</td>\n      <td>...</td>\n      <td>...</td>\n      <td>...</td>\n      <td>...</td>\n      <td>...</td>\n      <td>...</td>\n      <td>...</td>\n    </tr>\n    <tr>\n      <th>2018-10-29</th>\n      <td>NaN</td>\n      <td>NaN</td>\n      <td>NaN</td>\n      <td>NaN</td>\n      <td>NaN</td>\n      <td>NaN</td>\n      <td>NaN</td>\n      <td>NaN</td>\n      <td>NaN</td>\n      <td>NaN</td>\n      <td>...</td>\n      <td>NaN</td>\n      <td>NaN</td>\n      <td>NaN</td>\n      <td>NaN</td>\n      <td>NaN</td>\n      <td>NaN</td>\n      <td>NaN</td>\n      <td>NaN</td>\n      <td>NaN</td>\n      <td>NaN</td>\n    </tr>\n    <tr>\n      <th>2018-11-05</th>\n      <td>NaN</td>\n      <td>NaN</td>\n      <td>NaN</td>\n      <td>NaN</td>\n      <td>NaN</td>\n      <td>NaN</td>\n      <td>NaN</td>\n      <td>NaN</td>\n      <td>NaN</td>\n      <td>NaN</td>\n      <td>...</td>\n      <td>NaN</td>\n      <td>NaN</td>\n      <td>NaN</td>\n      <td>NaN</td>\n      <td>NaN</td>\n      <td>NaN</td>\n      <td>NaN</td>\n      <td>NaN</td>\n      <td>NaN</td>\n      <td>NaN</td>\n    </tr>\n    <tr>\n      <th>2018-11-12</th>\n      <td>NaN</td>\n      <td>NaN</td>\n      <td>NaN</td>\n      <td>NaN</td>\n      <td>NaN</td>\n      <td>NaN</td>\n      <td>NaN</td>\n      <td>NaN</td>\n      <td>NaN</td>\n      <td>NaN</td>\n      <td>...</td>\n      <td>NaN</td>\n      <td>NaN</td>\n      <td>NaN</td>\n      <td>NaN</td>\n      <td>NaN</td>\n      <td>NaN</td>\n      <td>NaN</td>\n      <td>NaN</td>\n      <td>NaN</td>\n      <td>NaN</td>\n    </tr>\n    <tr>\n      <th>2018-11-19</th>\n      <td>NaN</td>\n      <td>NaN</td>\n      <td>NaN</td>\n      <td>NaN</td>\n      <td>NaN</td>\n      <td>NaN</td>\n      <td>NaN</td>\n      <td>NaN</td>\n      <td>NaN</td>\n      <td>NaN</td>\n      <td>...</td>\n      <td>NaN</td>\n      <td>NaN</td>\n      <td>NaN</td>\n      <td>NaN</td>\n      <td>NaN</td>\n      <td>NaN</td>\n      <td>NaN</td>\n      <td>NaN</td>\n      <td>NaN</td>\n      <td>NaN</td>\n    </tr>\n    <tr>\n      <th>2018-11-26</th>\n      <td>NaN</td>\n      <td>NaN</td>\n      <td>NaN</td>\n      <td>NaN</td>\n      <td>NaN</td>\n      <td>NaN</td>\n      <td>NaN</td>\n      <td>NaN</td>\n      <td>NaN</td>\n      <td>NaN</td>\n      <td>...</td>\n      <td>NaN</td>\n      <td>NaN</td>\n      <td>NaN</td>\n      <td>NaN</td>\n      <td>NaN</td>\n      <td>NaN</td>\n      <td>NaN</td>\n      <td>NaN</td>\n      <td>NaN</td>\n      <td>NaN</td>\n    </tr>\n  </tbody>\n</table>\n<p>5617 rows × 1268 columns</p>\n</div>"
     },
     "metadata": {},
     "execution_count": 4
    }
   ],
   "source": [
    "gw_lvl"
   ]
  },
  {
   "cell_type": "code",
   "execution_count": 6,
   "metadata": {},
   "outputs": [
    {
     "output_type": "execute_result",
     "data": {
      "text/plain": [
       "array([datetime.date(1911, 4, 10), datetime.date(1911, 4, 17),\n",
       "       datetime.date(1911, 4, 24), ..., datetime.date(2018, 11, 12),\n",
       "       datetime.date(2018, 11, 19), datetime.date(2018, 11, 26)],\n",
       "      dtype=object)"
      ]
     },
     "metadata": {},
     "execution_count": 6
    }
   ],
   "source": [
    "gw_lvl.index.date"
   ]
  },
  {
   "cell_type": "code",
   "execution_count": 31,
   "metadata": {},
   "outputs": [
    {
     "output_type": "execute_result",
     "data": {
      "text/plain": [
       "            HE_10007  HE_10021  HE_10022  HE_10025  HE_10042  HE_10047  \\\n",
       "Datum                                                                    \n",
       "2008-01-07       NaN       NaN       NaN       NaN       NaN       NaN   \n",
       "2008-01-14       NaN       NaN       NaN       NaN       NaN       NaN   \n",
       "2008-01-21       NaN       NaN       NaN       NaN       NaN       NaN   \n",
       "2008-01-28       NaN       NaN       NaN       NaN       NaN       NaN   \n",
       "2008-02-04     -0.06  0.196667  0.346667  0.146667     0.100     0.520   \n",
       "...              ...       ...       ...       ...       ...       ...   \n",
       "2016-11-28       NaN       NaN       NaN       NaN       NaN       NaN   \n",
       "2016-12-05       NaN       NaN -0.305000 -0.070000    -0.275     0.095   \n",
       "2016-12-12       NaN       NaN -0.560000 -0.050000    -0.090    -0.050   \n",
       "2016-12-19       NaN       NaN -0.410000 -0.010000     0.020    -0.040   \n",
       "2016-12-26       NaN       NaN       NaN       NaN       NaN       NaN   \n",
       "\n",
       "            HE_10054  HE_10072  HE_10074  HE_10082  ...  HE_9837   HE_9867  \\\n",
       "Datum                                               ...                      \n",
       "2008-01-07       NaN       NaN       NaN       NaN  ...      NaN       NaN   \n",
       "2008-01-14       NaN       NaN       NaN       NaN  ...      NaN       NaN   \n",
       "2008-01-21       NaN       NaN       NaN       NaN  ...      NaN       NaN   \n",
       "2008-01-28       NaN       NaN       NaN       NaN  ...      NaN       NaN   \n",
       "2008-02-04  0.233333     0.560  0.176667  0.213333  ...     0.22  0.096667   \n",
       "...              ...       ...       ...       ...  ...      ...       ...   \n",
       "2016-11-28       NaN       NaN       NaN       NaN  ...      NaN       NaN   \n",
       "2016-12-05  0.060000     0.115  0.050000  0.010000  ...     0.06       NaN   \n",
       "2016-12-12 -0.140000    -0.080 -0.060000 -0.060000  ...    -0.04       NaN   \n",
       "2016-12-19 -0.100000    -0.090 -0.080000 -0.060000  ...    -0.04       NaN   \n",
       "2016-12-26       NaN       NaN       NaN       NaN  ...      NaN       NaN   \n",
       "\n",
       "            HE_9894  HE_9899  HE_9913   HE_9958  HE_9959  HE_9961   HE_9974  \\\n",
       "Datum                                                                         \n",
       "2008-01-07      NaN      NaN      NaN       NaN      NaN      NaN       NaN   \n",
       "2008-01-14      NaN      NaN      NaN       NaN      NaN      NaN       NaN   \n",
       "2008-01-21      NaN      NaN      NaN       NaN      NaN      NaN       NaN   \n",
       "2008-01-28      NaN      NaN      NaN       NaN      NaN      NaN       NaN   \n",
       "2008-02-04     0.09    -0.14     0.34  0.816667    0.440      NaN  0.113333   \n",
       "...             ...      ...      ...       ...      ...      ...       ...   \n",
       "2016-11-28      NaN      NaN      NaN       NaN      NaN      NaN       NaN   \n",
       "2016-12-05    -0.17      NaN     0.06  0.035000    0.225    -0.01  0.135000   \n",
       "2016-12-12    -0.27      NaN    -0.08 -0.300000    0.130    -0.01  0.000000   \n",
       "2016-12-19    -0.22      NaN    -0.05  0.000000    0.120     0.01 -0.090000   \n",
       "2016-12-26      NaN      NaN      NaN       NaN      NaN      NaN       NaN   \n",
       "\n",
       "            HE_9987  \n",
       "Datum                \n",
       "2008-01-07      NaN  \n",
       "2008-01-14      NaN  \n",
       "2008-01-21      NaN  \n",
       "2008-01-28      NaN  \n",
       "2008-02-04      0.4  \n",
       "...             ...  \n",
       "2016-11-28      NaN  \n",
       "2016-12-05      NaN  \n",
       "2016-12-12      NaN  \n",
       "2016-12-19      NaN  \n",
       "2016-12-26      NaN  \n",
       "\n",
       "[469 rows x 890 columns]"
      ],
      "text/html": "<div>\n<style scoped>\n    .dataframe tbody tr th:only-of-type {\n        vertical-align: middle;\n    }\n\n    .dataframe tbody tr th {\n        vertical-align: top;\n    }\n\n    .dataframe thead th {\n        text-align: right;\n    }\n</style>\n<table border=\"1\" class=\"dataframe\">\n  <thead>\n    <tr style=\"text-align: right;\">\n      <th></th>\n      <th>HE_10007</th>\n      <th>HE_10021</th>\n      <th>HE_10022</th>\n      <th>HE_10025</th>\n      <th>HE_10042</th>\n      <th>HE_10047</th>\n      <th>HE_10054</th>\n      <th>HE_10072</th>\n      <th>HE_10074</th>\n      <th>HE_10082</th>\n      <th>...</th>\n      <th>HE_9837</th>\n      <th>HE_9867</th>\n      <th>HE_9894</th>\n      <th>HE_9899</th>\n      <th>HE_9913</th>\n      <th>HE_9958</th>\n      <th>HE_9959</th>\n      <th>HE_9961</th>\n      <th>HE_9974</th>\n      <th>HE_9987</th>\n    </tr>\n    <tr>\n      <th>Datum</th>\n      <th></th>\n      <th></th>\n      <th></th>\n      <th></th>\n      <th></th>\n      <th></th>\n      <th></th>\n      <th></th>\n      <th></th>\n      <th></th>\n      <th></th>\n      <th></th>\n      <th></th>\n      <th></th>\n      <th></th>\n      <th></th>\n      <th></th>\n      <th></th>\n      <th></th>\n      <th></th>\n      <th></th>\n    </tr>\n  </thead>\n  <tbody>\n    <tr>\n      <th>2008-01-07</th>\n      <td>NaN</td>\n      <td>NaN</td>\n      <td>NaN</td>\n      <td>NaN</td>\n      <td>NaN</td>\n      <td>NaN</td>\n      <td>NaN</td>\n      <td>NaN</td>\n      <td>NaN</td>\n      <td>NaN</td>\n      <td>...</td>\n      <td>NaN</td>\n      <td>NaN</td>\n      <td>NaN</td>\n      <td>NaN</td>\n      <td>NaN</td>\n      <td>NaN</td>\n      <td>NaN</td>\n      <td>NaN</td>\n      <td>NaN</td>\n      <td>NaN</td>\n    </tr>\n    <tr>\n      <th>2008-01-14</th>\n      <td>NaN</td>\n      <td>NaN</td>\n      <td>NaN</td>\n      <td>NaN</td>\n      <td>NaN</td>\n      <td>NaN</td>\n      <td>NaN</td>\n      <td>NaN</td>\n      <td>NaN</td>\n      <td>NaN</td>\n      <td>...</td>\n      <td>NaN</td>\n      <td>NaN</td>\n      <td>NaN</td>\n      <td>NaN</td>\n      <td>NaN</td>\n      <td>NaN</td>\n      <td>NaN</td>\n      <td>NaN</td>\n      <td>NaN</td>\n      <td>NaN</td>\n    </tr>\n    <tr>\n      <th>2008-01-21</th>\n      <td>NaN</td>\n      <td>NaN</td>\n      <td>NaN</td>\n      <td>NaN</td>\n      <td>NaN</td>\n      <td>NaN</td>\n      <td>NaN</td>\n      <td>NaN</td>\n      <td>NaN</td>\n      <td>NaN</td>\n      <td>...</td>\n      <td>NaN</td>\n      <td>NaN</td>\n      <td>NaN</td>\n      <td>NaN</td>\n      <td>NaN</td>\n      <td>NaN</td>\n      <td>NaN</td>\n      <td>NaN</td>\n      <td>NaN</td>\n      <td>NaN</td>\n    </tr>\n    <tr>\n      <th>2008-01-28</th>\n      <td>NaN</td>\n      <td>NaN</td>\n      <td>NaN</td>\n      <td>NaN</td>\n      <td>NaN</td>\n      <td>NaN</td>\n      <td>NaN</td>\n      <td>NaN</td>\n      <td>NaN</td>\n      <td>NaN</td>\n      <td>...</td>\n      <td>NaN</td>\n      <td>NaN</td>\n      <td>NaN</td>\n      <td>NaN</td>\n      <td>NaN</td>\n      <td>NaN</td>\n      <td>NaN</td>\n      <td>NaN</td>\n      <td>NaN</td>\n      <td>NaN</td>\n    </tr>\n    <tr>\n      <th>2008-02-04</th>\n      <td>-0.06</td>\n      <td>0.196667</td>\n      <td>0.346667</td>\n      <td>0.146667</td>\n      <td>0.100</td>\n      <td>0.520</td>\n      <td>0.233333</td>\n      <td>0.560</td>\n      <td>0.176667</td>\n      <td>0.213333</td>\n      <td>...</td>\n      <td>0.22</td>\n      <td>0.096667</td>\n      <td>0.09</td>\n      <td>-0.14</td>\n      <td>0.34</td>\n      <td>0.816667</td>\n      <td>0.440</td>\n      <td>NaN</td>\n      <td>0.113333</td>\n      <td>0.4</td>\n    </tr>\n    <tr>\n      <th>...</th>\n      <td>...</td>\n      <td>...</td>\n      <td>...</td>\n      <td>...</td>\n      <td>...</td>\n      <td>...</td>\n      <td>...</td>\n      <td>...</td>\n      <td>...</td>\n      <td>...</td>\n      <td>...</td>\n      <td>...</td>\n      <td>...</td>\n      <td>...</td>\n      <td>...</td>\n      <td>...</td>\n      <td>...</td>\n      <td>...</td>\n      <td>...</td>\n      <td>...</td>\n      <td>...</td>\n    </tr>\n    <tr>\n      <th>2016-11-28</th>\n      <td>NaN</td>\n      <td>NaN</td>\n      <td>NaN</td>\n      <td>NaN</td>\n      <td>NaN</td>\n      <td>NaN</td>\n      <td>NaN</td>\n      <td>NaN</td>\n      <td>NaN</td>\n      <td>NaN</td>\n      <td>...</td>\n      <td>NaN</td>\n      <td>NaN</td>\n      <td>NaN</td>\n      <td>NaN</td>\n      <td>NaN</td>\n      <td>NaN</td>\n      <td>NaN</td>\n      <td>NaN</td>\n      <td>NaN</td>\n      <td>NaN</td>\n    </tr>\n    <tr>\n      <th>2016-12-05</th>\n      <td>NaN</td>\n      <td>NaN</td>\n      <td>-0.305000</td>\n      <td>-0.070000</td>\n      <td>-0.275</td>\n      <td>0.095</td>\n      <td>0.060000</td>\n      <td>0.115</td>\n      <td>0.050000</td>\n      <td>0.010000</td>\n      <td>...</td>\n      <td>0.06</td>\n      <td>NaN</td>\n      <td>-0.17</td>\n      <td>NaN</td>\n      <td>0.06</td>\n      <td>0.035000</td>\n      <td>0.225</td>\n      <td>-0.01</td>\n      <td>0.135000</td>\n      <td>NaN</td>\n    </tr>\n    <tr>\n      <th>2016-12-12</th>\n      <td>NaN</td>\n      <td>NaN</td>\n      <td>-0.560000</td>\n      <td>-0.050000</td>\n      <td>-0.090</td>\n      <td>-0.050</td>\n      <td>-0.140000</td>\n      <td>-0.080</td>\n      <td>-0.060000</td>\n      <td>-0.060000</td>\n      <td>...</td>\n      <td>-0.04</td>\n      <td>NaN</td>\n      <td>-0.27</td>\n      <td>NaN</td>\n      <td>-0.08</td>\n      <td>-0.300000</td>\n      <td>0.130</td>\n      <td>-0.01</td>\n      <td>0.000000</td>\n      <td>NaN</td>\n    </tr>\n    <tr>\n      <th>2016-12-19</th>\n      <td>NaN</td>\n      <td>NaN</td>\n      <td>-0.410000</td>\n      <td>-0.010000</td>\n      <td>0.020</td>\n      <td>-0.040</td>\n      <td>-0.100000</td>\n      <td>-0.090</td>\n      <td>-0.080000</td>\n      <td>-0.060000</td>\n      <td>...</td>\n      <td>-0.04</td>\n      <td>NaN</td>\n      <td>-0.22</td>\n      <td>NaN</td>\n      <td>-0.05</td>\n      <td>0.000000</td>\n      <td>0.120</td>\n      <td>0.01</td>\n      <td>-0.090000</td>\n      <td>NaN</td>\n    </tr>\n    <tr>\n      <th>2016-12-26</th>\n      <td>NaN</td>\n      <td>NaN</td>\n      <td>NaN</td>\n      <td>NaN</td>\n      <td>NaN</td>\n      <td>NaN</td>\n      <td>NaN</td>\n      <td>NaN</td>\n      <td>NaN</td>\n      <td>NaN</td>\n      <td>...</td>\n      <td>NaN</td>\n      <td>NaN</td>\n      <td>NaN</td>\n      <td>NaN</td>\n      <td>NaN</td>\n      <td>NaN</td>\n      <td>NaN</td>\n      <td>NaN</td>\n      <td>NaN</td>\n      <td>NaN</td>\n    </tr>\n  </tbody>\n</table>\n<p>469 rows × 890 columns</p>\n</div>"
     },
     "metadata": {},
     "execution_count": 31
    }
   ],
   "source": [
    "gw_lvl = gw_lvl.loc['2008-01-01':'2018-01-01'] #nur der relevante zeitraum 2008-2017\n",
    "gw_change = gw_lvl.diff(periods=4).dropna(axis=1, how='all')\n",
    "gw_change"
   ]
  },
  {
   "cell_type": "code",
   "execution_count": 32,
   "metadata": {},
   "outputs": [
    {
     "output_type": "execute_result",
     "data": {
      "text/plain": [
       "        HE_10007    HE_10021    HE_10022    HE_10025    HE_10042    HE_10047  \\\n",
       "count  69.000000  131.000000  334.000000  346.000000  332.000000  307.000000   \n",
       "mean   -0.003986    0.006997   -0.002650    0.003757    0.007410    0.010966   \n",
       "std     0.125078    0.134635    0.625051    0.111615    0.207908    0.162187   \n",
       "min    -0.330000   -0.340000   -2.490000   -0.490000   -0.780000   -0.850000   \n",
       "25%    -0.080000   -0.065000   -0.267500   -0.050000   -0.132500   -0.070000   \n",
       "50%    -0.020000    0.000000   -0.010000    0.010000    0.007500    0.000000   \n",
       "75%     0.070000    0.070000    0.290000    0.060000    0.130000    0.090000   \n",
       "max     0.295000    0.475000    2.230000    0.430000    0.740000    0.765000   \n",
       "\n",
       "         HE_10054    HE_10072    HE_10074    HE_10082  ...     HE_9837  \\\n",
       "count  346.000000  346.000000  340.000000  346.000000  ...  202.000000   \n",
       "mean     0.005491    0.013764    0.003059    0.005592  ...    0.019233   \n",
       "std      0.161903    0.207541    0.138696    0.101232  ...    0.347579   \n",
       "min     -0.490000   -0.730000   -1.107500   -0.540000  ...   -1.875000   \n",
       "25%     -0.090000   -0.090000   -0.040000   -0.050000  ...   -0.150000   \n",
       "50%      0.000000   -0.010000   -0.005833   -0.005000  ...   -0.015000   \n",
       "75%      0.090000    0.110000    0.046250    0.060000  ...    0.160000   \n",
       "max      0.670000    1.165000    1.420000    0.550000  ...    1.590000   \n",
       "\n",
       "          HE_9867     HE_9894     HE_9899     HE_9913     HE_9958     HE_9959  \\\n",
       "count  317.000000  346.000000  223.000000  346.000000  338.000000  338.000000   \n",
       "mean     0.006371    0.009114   -0.004460    0.008911    0.008119    0.019231   \n",
       "std      0.175226    0.244314    0.403756    0.218329    0.489218    0.337430   \n",
       "min     -0.820000   -1.030000   -1.110000   -0.840000   -2.095000   -1.480000   \n",
       "25%     -0.085000   -0.140000   -0.231667   -0.080000   -0.227500   -0.150000   \n",
       "50%      0.002500   -0.005000    0.000000   -0.020000   -0.010000    0.020000   \n",
       "75%      0.110000    0.147500    0.185000    0.098750    0.261875    0.200000   \n",
       "max      0.700000    0.800000    1.300000    1.250000    2.050000    1.090000   \n",
       "\n",
       "          HE_9961     HE_9974    HE_9987  \n",
       "count  317.000000  334.000000  56.000000  \n",
       "mean     0.006215    0.010734   0.015804  \n",
       "std      0.078715    0.149658   0.153944  \n",
       "min     -0.240000   -0.600000  -0.290000  \n",
       "25%     -0.035000   -0.070000  -0.082500  \n",
       "50%      0.005000    0.000000  -0.015000  \n",
       "75%      0.050000    0.077500   0.092500  \n",
       "max      0.220000    0.660000   0.400000  \n",
       "\n",
       "[8 rows x 890 columns]"
      ],
      "text/html": "<div>\n<style scoped>\n    .dataframe tbody tr th:only-of-type {\n        vertical-align: middle;\n    }\n\n    .dataframe tbody tr th {\n        vertical-align: top;\n    }\n\n    .dataframe thead th {\n        text-align: right;\n    }\n</style>\n<table border=\"1\" class=\"dataframe\">\n  <thead>\n    <tr style=\"text-align: right;\">\n      <th></th>\n      <th>HE_10007</th>\n      <th>HE_10021</th>\n      <th>HE_10022</th>\n      <th>HE_10025</th>\n      <th>HE_10042</th>\n      <th>HE_10047</th>\n      <th>HE_10054</th>\n      <th>HE_10072</th>\n      <th>HE_10074</th>\n      <th>HE_10082</th>\n      <th>...</th>\n      <th>HE_9837</th>\n      <th>HE_9867</th>\n      <th>HE_9894</th>\n      <th>HE_9899</th>\n      <th>HE_9913</th>\n      <th>HE_9958</th>\n      <th>HE_9959</th>\n      <th>HE_9961</th>\n      <th>HE_9974</th>\n      <th>HE_9987</th>\n    </tr>\n  </thead>\n  <tbody>\n    <tr>\n      <th>count</th>\n      <td>69.000000</td>\n      <td>131.000000</td>\n      <td>334.000000</td>\n      <td>346.000000</td>\n      <td>332.000000</td>\n      <td>307.000000</td>\n      <td>346.000000</td>\n      <td>346.000000</td>\n      <td>340.000000</td>\n      <td>346.000000</td>\n      <td>...</td>\n      <td>202.000000</td>\n      <td>317.000000</td>\n      <td>346.000000</td>\n      <td>223.000000</td>\n      <td>346.000000</td>\n      <td>338.000000</td>\n      <td>338.000000</td>\n      <td>317.000000</td>\n      <td>334.000000</td>\n      <td>56.000000</td>\n    </tr>\n    <tr>\n      <th>mean</th>\n      <td>-0.003986</td>\n      <td>0.006997</td>\n      <td>-0.002650</td>\n      <td>0.003757</td>\n      <td>0.007410</td>\n      <td>0.010966</td>\n      <td>0.005491</td>\n      <td>0.013764</td>\n      <td>0.003059</td>\n      <td>0.005592</td>\n      <td>...</td>\n      <td>0.019233</td>\n      <td>0.006371</td>\n      <td>0.009114</td>\n      <td>-0.004460</td>\n      <td>0.008911</td>\n      <td>0.008119</td>\n      <td>0.019231</td>\n      <td>0.006215</td>\n      <td>0.010734</td>\n      <td>0.015804</td>\n    </tr>\n    <tr>\n      <th>std</th>\n      <td>0.125078</td>\n      <td>0.134635</td>\n      <td>0.625051</td>\n      <td>0.111615</td>\n      <td>0.207908</td>\n      <td>0.162187</td>\n      <td>0.161903</td>\n      <td>0.207541</td>\n      <td>0.138696</td>\n      <td>0.101232</td>\n      <td>...</td>\n      <td>0.347579</td>\n      <td>0.175226</td>\n      <td>0.244314</td>\n      <td>0.403756</td>\n      <td>0.218329</td>\n      <td>0.489218</td>\n      <td>0.337430</td>\n      <td>0.078715</td>\n      <td>0.149658</td>\n      <td>0.153944</td>\n    </tr>\n    <tr>\n      <th>min</th>\n      <td>-0.330000</td>\n      <td>-0.340000</td>\n      <td>-2.490000</td>\n      <td>-0.490000</td>\n      <td>-0.780000</td>\n      <td>-0.850000</td>\n      <td>-0.490000</td>\n      <td>-0.730000</td>\n      <td>-1.107500</td>\n      <td>-0.540000</td>\n      <td>...</td>\n      <td>-1.875000</td>\n      <td>-0.820000</td>\n      <td>-1.030000</td>\n      <td>-1.110000</td>\n      <td>-0.840000</td>\n      <td>-2.095000</td>\n      <td>-1.480000</td>\n      <td>-0.240000</td>\n      <td>-0.600000</td>\n      <td>-0.290000</td>\n    </tr>\n    <tr>\n      <th>25%</th>\n      <td>-0.080000</td>\n      <td>-0.065000</td>\n      <td>-0.267500</td>\n      <td>-0.050000</td>\n      <td>-0.132500</td>\n      <td>-0.070000</td>\n      <td>-0.090000</td>\n      <td>-0.090000</td>\n      <td>-0.040000</td>\n      <td>-0.050000</td>\n      <td>...</td>\n      <td>-0.150000</td>\n      <td>-0.085000</td>\n      <td>-0.140000</td>\n      <td>-0.231667</td>\n      <td>-0.080000</td>\n      <td>-0.227500</td>\n      <td>-0.150000</td>\n      <td>-0.035000</td>\n      <td>-0.070000</td>\n      <td>-0.082500</td>\n    </tr>\n    <tr>\n      <th>50%</th>\n      <td>-0.020000</td>\n      <td>0.000000</td>\n      <td>-0.010000</td>\n      <td>0.010000</td>\n      <td>0.007500</td>\n      <td>0.000000</td>\n      <td>0.000000</td>\n      <td>-0.010000</td>\n      <td>-0.005833</td>\n      <td>-0.005000</td>\n      <td>...</td>\n      <td>-0.015000</td>\n      <td>0.002500</td>\n      <td>-0.005000</td>\n      <td>0.000000</td>\n      <td>-0.020000</td>\n      <td>-0.010000</td>\n      <td>0.020000</td>\n      <td>0.005000</td>\n      <td>0.000000</td>\n      <td>-0.015000</td>\n    </tr>\n    <tr>\n      <th>75%</th>\n      <td>0.070000</td>\n      <td>0.070000</td>\n      <td>0.290000</td>\n      <td>0.060000</td>\n      <td>0.130000</td>\n      <td>0.090000</td>\n      <td>0.090000</td>\n      <td>0.110000</td>\n      <td>0.046250</td>\n      <td>0.060000</td>\n      <td>...</td>\n      <td>0.160000</td>\n      <td>0.110000</td>\n      <td>0.147500</td>\n      <td>0.185000</td>\n      <td>0.098750</td>\n      <td>0.261875</td>\n      <td>0.200000</td>\n      <td>0.050000</td>\n      <td>0.077500</td>\n      <td>0.092500</td>\n    </tr>\n    <tr>\n      <th>max</th>\n      <td>0.295000</td>\n      <td>0.475000</td>\n      <td>2.230000</td>\n      <td>0.430000</td>\n      <td>0.740000</td>\n      <td>0.765000</td>\n      <td>0.670000</td>\n      <td>1.165000</td>\n      <td>1.420000</td>\n      <td>0.550000</td>\n      <td>...</td>\n      <td>1.590000</td>\n      <td>0.700000</td>\n      <td>0.800000</td>\n      <td>1.300000</td>\n      <td>1.250000</td>\n      <td>2.050000</td>\n      <td>1.090000</td>\n      <td>0.220000</td>\n      <td>0.660000</td>\n      <td>0.400000</td>\n    </tr>\n  </tbody>\n</table>\n<p>8 rows × 890 columns</p>\n</div>"
     },
     "metadata": {},
     "execution_count": 32
    }
   ],
   "source": [
    "gw_change.describe()"
   ]
  },
  {
   "cell_type": "code",
   "execution_count": 33,
   "metadata": {},
   "outputs": [
    {
     "output_type": "stream",
     "name": "stdout",
     "text": [
      "Mean Anz. an Werten:  309.6078651685393\nMax. Anz. an Werten:  346\nMin. Anz. an Werten:  19\nGesamt Anz. an Werten:  275551\n"
     ]
    }
   ],
   "source": [
    "print('Mean Anz. an Werten: ', gw_change.count().mean())\n",
    "print('Max. Anz. an Werten: ', gw_change.count().max())\n",
    "print('Min. Anz. an Werten: ', gw_change.count().min())\n",
    "print('Gesamt Anz. an Werten: ', gw_change.count().sum())"
   ]
  },
  {
   "cell_type": "code",
   "execution_count": 34,
   "metadata": {},
   "outputs": [],
   "source": [
    "fifth_percentile = gw_change.quantile(0.05)\n",
    "ninetyfifth_percentile = gw_change.quantile(0.95)"
   ]
  },
  {
   "cell_type": "code",
   "execution_count": 35,
   "metadata": {},
   "outputs": [
    {
     "output_type": "execute_result",
     "data": {
      "text/plain": [
       "HE_10007   -0.16900\n",
       "HE_10021   -0.20500\n",
       "HE_10022   -1.10700\n",
       "HE_10025   -0.17000\n",
       "HE_10042   -0.28450\n",
       "             ...   \n",
       "HE_9958    -0.70150\n",
       "HE_9959    -0.51075\n",
       "HE_9961    -0.14000\n",
       "HE_9974    -0.19000\n",
       "HE_9987    -0.18875\n",
       "Name: 0.05, Length: 890, dtype: float64"
      ]
     },
     "metadata": {},
     "execution_count": 35
    }
   ],
   "source": [
    "fifth_percentile"
   ]
  },
  {
   "cell_type": "code",
   "execution_count": 36,
   "metadata": {},
   "outputs": [],
   "source": [
    "gw_xtreme = gw_change.copy()\n",
    "for column in gw_change:\n",
    "    gw_xtreme[column] = gw_xtreme[column].mask(gw_xtreme[column] < fifth_percentile[column], -1)\n",
    "    gw_xtreme[column] = gw_xtreme[column].mask(gw_xtreme[column] > ninetyfifth_percentile[column], 1)\n",
    "    gw_xtreme[column] = gw_xtreme[column].mask((gw_xtreme[column] != -1)&(gw_xtreme[column] != 1)&(gw_xtreme[column].notna()), 0)"
   ]
  },
  {
   "cell_type": "code",
   "execution_count": 37,
   "metadata": {},
   "outputs": [
    {
     "output_type": "execute_result",
     "data": {
      "text/plain": [
       "            HE_10007  HE_10021  HE_10022  HE_10025  HE_10042  HE_10047  \\\n",
       "Datum                                                                    \n",
       "2008-01-07       NaN       NaN       NaN       NaN       NaN       NaN   \n",
       "2008-01-14       NaN       NaN       NaN       NaN       NaN       NaN   \n",
       "2008-01-21       NaN       NaN       NaN       NaN       NaN       NaN   \n",
       "2008-01-28       NaN       NaN       NaN       NaN       NaN       NaN   \n",
       "2008-02-04       0.0       0.0       0.0       0.0       0.0       1.0   \n",
       "...              ...       ...       ...       ...       ...       ...   \n",
       "2016-11-28       NaN       NaN       NaN       NaN       NaN       NaN   \n",
       "2016-12-05       NaN       NaN       0.0       0.0       0.0       0.0   \n",
       "2016-12-12       NaN       NaN       0.0       0.0       0.0       0.0   \n",
       "2016-12-19       NaN       NaN       0.0       0.0       0.0       0.0   \n",
       "2016-12-26       NaN       NaN       NaN       NaN       NaN       NaN   \n",
       "\n",
       "            HE_10054  HE_10072  HE_10074  HE_10082  ...  HE_9837  HE_9867  \\\n",
       "Datum                                               ...                     \n",
       "2008-01-07       NaN       NaN       NaN       NaN  ...      NaN      NaN   \n",
       "2008-01-14       NaN       NaN       NaN       NaN  ...      NaN      NaN   \n",
       "2008-01-21       NaN       NaN       NaN       NaN  ...      NaN      NaN   \n",
       "2008-01-28       NaN       NaN       NaN       NaN  ...      NaN      NaN   \n",
       "2008-02-04       0.0       1.0       1.0       1.0  ...      0.0      0.0   \n",
       "...              ...       ...       ...       ...  ...      ...      ...   \n",
       "2016-11-28       NaN       NaN       NaN       NaN  ...      NaN      NaN   \n",
       "2016-12-05       0.0       0.0       0.0       0.0  ...      0.0      NaN   \n",
       "2016-12-12       0.0       0.0       0.0       0.0  ...      0.0      NaN   \n",
       "2016-12-19       0.0       0.0       0.0       0.0  ...      0.0      NaN   \n",
       "2016-12-26       NaN       NaN       NaN       NaN  ...      NaN      NaN   \n",
       "\n",
       "            HE_9894  HE_9899  HE_9913  HE_9958  HE_9959  HE_9961  HE_9974  \\\n",
       "Datum                                                                       \n",
       "2008-01-07      NaN      NaN      NaN      NaN      NaN      NaN      NaN   \n",
       "2008-01-14      NaN      NaN      NaN      NaN      NaN      NaN      NaN   \n",
       "2008-01-21      NaN      NaN      NaN      NaN      NaN      NaN      NaN   \n",
       "2008-01-28      NaN      NaN      NaN      NaN      NaN      NaN      NaN   \n",
       "2008-02-04      0.0      0.0      0.0      0.0      0.0      NaN      0.0   \n",
       "...             ...      ...      ...      ...      ...      ...      ...   \n",
       "2016-11-28      NaN      NaN      NaN      NaN      NaN      NaN      NaN   \n",
       "2016-12-05      0.0      NaN      0.0      0.0      0.0      0.0      0.0   \n",
       "2016-12-12      0.0      NaN      0.0      0.0      0.0      0.0      0.0   \n",
       "2016-12-19      0.0      NaN      0.0      0.0      0.0      0.0      0.0   \n",
       "2016-12-26      NaN      NaN      NaN      NaN      NaN      NaN      NaN   \n",
       "\n",
       "            HE_9987  \n",
       "Datum                \n",
       "2008-01-07      NaN  \n",
       "2008-01-14      NaN  \n",
       "2008-01-21      NaN  \n",
       "2008-01-28      NaN  \n",
       "2008-02-04      1.0  \n",
       "...             ...  \n",
       "2016-11-28      NaN  \n",
       "2016-12-05      NaN  \n",
       "2016-12-12      NaN  \n",
       "2016-12-19      NaN  \n",
       "2016-12-26      NaN  \n",
       "\n",
       "[469 rows x 890 columns]"
      ],
      "text/html": "<div>\n<style scoped>\n    .dataframe tbody tr th:only-of-type {\n        vertical-align: middle;\n    }\n\n    .dataframe tbody tr th {\n        vertical-align: top;\n    }\n\n    .dataframe thead th {\n        text-align: right;\n    }\n</style>\n<table border=\"1\" class=\"dataframe\">\n  <thead>\n    <tr style=\"text-align: right;\">\n      <th></th>\n      <th>HE_10007</th>\n      <th>HE_10021</th>\n      <th>HE_10022</th>\n      <th>HE_10025</th>\n      <th>HE_10042</th>\n      <th>HE_10047</th>\n      <th>HE_10054</th>\n      <th>HE_10072</th>\n      <th>HE_10074</th>\n      <th>HE_10082</th>\n      <th>...</th>\n      <th>HE_9837</th>\n      <th>HE_9867</th>\n      <th>HE_9894</th>\n      <th>HE_9899</th>\n      <th>HE_9913</th>\n      <th>HE_9958</th>\n      <th>HE_9959</th>\n      <th>HE_9961</th>\n      <th>HE_9974</th>\n      <th>HE_9987</th>\n    </tr>\n    <tr>\n      <th>Datum</th>\n      <th></th>\n      <th></th>\n      <th></th>\n      <th></th>\n      <th></th>\n      <th></th>\n      <th></th>\n      <th></th>\n      <th></th>\n      <th></th>\n      <th></th>\n      <th></th>\n      <th></th>\n      <th></th>\n      <th></th>\n      <th></th>\n      <th></th>\n      <th></th>\n      <th></th>\n      <th></th>\n      <th></th>\n    </tr>\n  </thead>\n  <tbody>\n    <tr>\n      <th>2008-01-07</th>\n      <td>NaN</td>\n      <td>NaN</td>\n      <td>NaN</td>\n      <td>NaN</td>\n      <td>NaN</td>\n      <td>NaN</td>\n      <td>NaN</td>\n      <td>NaN</td>\n      <td>NaN</td>\n      <td>NaN</td>\n      <td>...</td>\n      <td>NaN</td>\n      <td>NaN</td>\n      <td>NaN</td>\n      <td>NaN</td>\n      <td>NaN</td>\n      <td>NaN</td>\n      <td>NaN</td>\n      <td>NaN</td>\n      <td>NaN</td>\n      <td>NaN</td>\n    </tr>\n    <tr>\n      <th>2008-01-14</th>\n      <td>NaN</td>\n      <td>NaN</td>\n      <td>NaN</td>\n      <td>NaN</td>\n      <td>NaN</td>\n      <td>NaN</td>\n      <td>NaN</td>\n      <td>NaN</td>\n      <td>NaN</td>\n      <td>NaN</td>\n      <td>...</td>\n      <td>NaN</td>\n      <td>NaN</td>\n      <td>NaN</td>\n      <td>NaN</td>\n      <td>NaN</td>\n      <td>NaN</td>\n      <td>NaN</td>\n      <td>NaN</td>\n      <td>NaN</td>\n      <td>NaN</td>\n    </tr>\n    <tr>\n      <th>2008-01-21</th>\n      <td>NaN</td>\n      <td>NaN</td>\n      <td>NaN</td>\n      <td>NaN</td>\n      <td>NaN</td>\n      <td>NaN</td>\n      <td>NaN</td>\n      <td>NaN</td>\n      <td>NaN</td>\n      <td>NaN</td>\n      <td>...</td>\n      <td>NaN</td>\n      <td>NaN</td>\n      <td>NaN</td>\n      <td>NaN</td>\n      <td>NaN</td>\n      <td>NaN</td>\n      <td>NaN</td>\n      <td>NaN</td>\n      <td>NaN</td>\n      <td>NaN</td>\n    </tr>\n    <tr>\n      <th>2008-01-28</th>\n      <td>NaN</td>\n      <td>NaN</td>\n      <td>NaN</td>\n      <td>NaN</td>\n      <td>NaN</td>\n      <td>NaN</td>\n      <td>NaN</td>\n      <td>NaN</td>\n      <td>NaN</td>\n      <td>NaN</td>\n      <td>...</td>\n      <td>NaN</td>\n      <td>NaN</td>\n      <td>NaN</td>\n      <td>NaN</td>\n      <td>NaN</td>\n      <td>NaN</td>\n      <td>NaN</td>\n      <td>NaN</td>\n      <td>NaN</td>\n      <td>NaN</td>\n    </tr>\n    <tr>\n      <th>2008-02-04</th>\n      <td>0.0</td>\n      <td>0.0</td>\n      <td>0.0</td>\n      <td>0.0</td>\n      <td>0.0</td>\n      <td>1.0</td>\n      <td>0.0</td>\n      <td>1.0</td>\n      <td>1.0</td>\n      <td>1.0</td>\n      <td>...</td>\n      <td>0.0</td>\n      <td>0.0</td>\n      <td>0.0</td>\n      <td>0.0</td>\n      <td>0.0</td>\n      <td>0.0</td>\n      <td>0.0</td>\n      <td>NaN</td>\n      <td>0.0</td>\n      <td>1.0</td>\n    </tr>\n    <tr>\n      <th>...</th>\n      <td>...</td>\n      <td>...</td>\n      <td>...</td>\n      <td>...</td>\n      <td>...</td>\n      <td>...</td>\n      <td>...</td>\n      <td>...</td>\n      <td>...</td>\n      <td>...</td>\n      <td>...</td>\n      <td>...</td>\n      <td>...</td>\n      <td>...</td>\n      <td>...</td>\n      <td>...</td>\n      <td>...</td>\n      <td>...</td>\n      <td>...</td>\n      <td>...</td>\n      <td>...</td>\n    </tr>\n    <tr>\n      <th>2016-11-28</th>\n      <td>NaN</td>\n      <td>NaN</td>\n      <td>NaN</td>\n      <td>NaN</td>\n      <td>NaN</td>\n      <td>NaN</td>\n      <td>NaN</td>\n      <td>NaN</td>\n      <td>NaN</td>\n      <td>NaN</td>\n      <td>...</td>\n      <td>NaN</td>\n      <td>NaN</td>\n      <td>NaN</td>\n      <td>NaN</td>\n      <td>NaN</td>\n      <td>NaN</td>\n      <td>NaN</td>\n      <td>NaN</td>\n      <td>NaN</td>\n      <td>NaN</td>\n    </tr>\n    <tr>\n      <th>2016-12-05</th>\n      <td>NaN</td>\n      <td>NaN</td>\n      <td>0.0</td>\n      <td>0.0</td>\n      <td>0.0</td>\n      <td>0.0</td>\n      <td>0.0</td>\n      <td>0.0</td>\n      <td>0.0</td>\n      <td>0.0</td>\n      <td>...</td>\n      <td>0.0</td>\n      <td>NaN</td>\n      <td>0.0</td>\n      <td>NaN</td>\n      <td>0.0</td>\n      <td>0.0</td>\n      <td>0.0</td>\n      <td>0.0</td>\n      <td>0.0</td>\n      <td>NaN</td>\n    </tr>\n    <tr>\n      <th>2016-12-12</th>\n      <td>NaN</td>\n      <td>NaN</td>\n      <td>0.0</td>\n      <td>0.0</td>\n      <td>0.0</td>\n      <td>0.0</td>\n      <td>0.0</td>\n      <td>0.0</td>\n      <td>0.0</td>\n      <td>0.0</td>\n      <td>...</td>\n      <td>0.0</td>\n      <td>NaN</td>\n      <td>0.0</td>\n      <td>NaN</td>\n      <td>0.0</td>\n      <td>0.0</td>\n      <td>0.0</td>\n      <td>0.0</td>\n      <td>0.0</td>\n      <td>NaN</td>\n    </tr>\n    <tr>\n      <th>2016-12-19</th>\n      <td>NaN</td>\n      <td>NaN</td>\n      <td>0.0</td>\n      <td>0.0</td>\n      <td>0.0</td>\n      <td>0.0</td>\n      <td>0.0</td>\n      <td>0.0</td>\n      <td>0.0</td>\n      <td>0.0</td>\n      <td>...</td>\n      <td>0.0</td>\n      <td>NaN</td>\n      <td>0.0</td>\n      <td>NaN</td>\n      <td>0.0</td>\n      <td>0.0</td>\n      <td>0.0</td>\n      <td>0.0</td>\n      <td>0.0</td>\n      <td>NaN</td>\n    </tr>\n    <tr>\n      <th>2016-12-26</th>\n      <td>NaN</td>\n      <td>NaN</td>\n      <td>NaN</td>\n      <td>NaN</td>\n      <td>NaN</td>\n      <td>NaN</td>\n      <td>NaN</td>\n      <td>NaN</td>\n      <td>NaN</td>\n      <td>NaN</td>\n      <td>...</td>\n      <td>NaN</td>\n      <td>NaN</td>\n      <td>NaN</td>\n      <td>NaN</td>\n      <td>NaN</td>\n      <td>NaN</td>\n      <td>NaN</td>\n      <td>NaN</td>\n      <td>NaN</td>\n      <td>NaN</td>\n    </tr>\n  </tbody>\n</table>\n<p>469 rows × 890 columns</p>\n</div>"
     },
     "metadata": {},
     "execution_count": 37
    }
   ],
   "source": [
    "gw_xtreme"
   ]
  },
  {
   "cell_type": "code",
   "execution_count": 38,
   "metadata": {},
   "outputs": [
    {
     "output_type": "execute_result",
     "data": {
      "text/plain": [
       "      HE_10007  HE_10021  HE_10022  HE_10025  HE_10042  HE_10047  HE_10054  \\\n",
       "-1.0         4         7        18        17        17        15        18   \n",
       " 0.0        61       117       298       311       299       276       310   \n",
       " 1.0         4         7        18        18        16        16        18   \n",
       "\n",
       "      HE_10072  HE_10074  HE_10082  ...  HE_9837  HE_9867  HE_9894  HE_9899  \\\n",
       "-1.0        18        17        18  ...       11       16       17       12   \n",
       " 0.0       310       306       310  ...      180      285      311      199   \n",
       " 1.0        18        17        18  ...       11       16       18       12   \n",
       "\n",
       "      HE_9913  HE_9958  HE_9959  HE_9961  HE_9974  HE_9987  \n",
       "-1.0       18       17       17       13       16        3  \n",
       " 0.0      310      304      304      288      302       51  \n",
       " 1.0       18       17       17       16       16        2  \n",
       "\n",
       "[3 rows x 890 columns]"
      ],
      "text/html": "<div>\n<style scoped>\n    .dataframe tbody tr th:only-of-type {\n        vertical-align: middle;\n    }\n\n    .dataframe tbody tr th {\n        vertical-align: top;\n    }\n\n    .dataframe thead th {\n        text-align: right;\n    }\n</style>\n<table border=\"1\" class=\"dataframe\">\n  <thead>\n    <tr style=\"text-align: right;\">\n      <th></th>\n      <th>HE_10007</th>\n      <th>HE_10021</th>\n      <th>HE_10022</th>\n      <th>HE_10025</th>\n      <th>HE_10042</th>\n      <th>HE_10047</th>\n      <th>HE_10054</th>\n      <th>HE_10072</th>\n      <th>HE_10074</th>\n      <th>HE_10082</th>\n      <th>...</th>\n      <th>HE_9837</th>\n      <th>HE_9867</th>\n      <th>HE_9894</th>\n      <th>HE_9899</th>\n      <th>HE_9913</th>\n      <th>HE_9958</th>\n      <th>HE_9959</th>\n      <th>HE_9961</th>\n      <th>HE_9974</th>\n      <th>HE_9987</th>\n    </tr>\n  </thead>\n  <tbody>\n    <tr>\n      <th>-1.0</th>\n      <td>4</td>\n      <td>7</td>\n      <td>18</td>\n      <td>17</td>\n      <td>17</td>\n      <td>15</td>\n      <td>18</td>\n      <td>18</td>\n      <td>17</td>\n      <td>18</td>\n      <td>...</td>\n      <td>11</td>\n      <td>16</td>\n      <td>17</td>\n      <td>12</td>\n      <td>18</td>\n      <td>17</td>\n      <td>17</td>\n      <td>13</td>\n      <td>16</td>\n      <td>3</td>\n    </tr>\n    <tr>\n      <th>0.0</th>\n      <td>61</td>\n      <td>117</td>\n      <td>298</td>\n      <td>311</td>\n      <td>299</td>\n      <td>276</td>\n      <td>310</td>\n      <td>310</td>\n      <td>306</td>\n      <td>310</td>\n      <td>...</td>\n      <td>180</td>\n      <td>285</td>\n      <td>311</td>\n      <td>199</td>\n      <td>310</td>\n      <td>304</td>\n      <td>304</td>\n      <td>288</td>\n      <td>302</td>\n      <td>51</td>\n    </tr>\n    <tr>\n      <th>1.0</th>\n      <td>4</td>\n      <td>7</td>\n      <td>18</td>\n      <td>18</td>\n      <td>16</td>\n      <td>16</td>\n      <td>18</td>\n      <td>18</td>\n      <td>17</td>\n      <td>18</td>\n      <td>...</td>\n      <td>11</td>\n      <td>16</td>\n      <td>18</td>\n      <td>12</td>\n      <td>18</td>\n      <td>17</td>\n      <td>17</td>\n      <td>16</td>\n      <td>16</td>\n      <td>2</td>\n    </tr>\n  </tbody>\n</table>\n<p>3 rows × 890 columns</p>\n</div>"
     },
     "metadata": {},
     "execution_count": 38
    }
   ],
   "source": [
    "xtreme_counts = gw_xtreme.apply(pd.Series.value_counts)\n",
    "xtreme_counts"
   ]
  },
  {
   "cell_type": "code",
   "execution_count": 39,
   "metadata": {},
   "outputs": [
    {
     "output_type": "execute_result",
     "data": {
      "text/plain": [
       "-1.0     15.839326\n",
       " 0.0    277.897753\n",
       " 1.0     15.870787\n",
       "dtype: float64"
      ]
     },
     "metadata": {},
     "execution_count": 39
    }
   ],
   "source": [
    "xtreme_counts.mean(axis=1)"
   ]
  },
  {
   "cell_type": "code",
   "execution_count": 40,
   "metadata": {},
   "outputs": [
    {
     "output_type": "execute_result",
     "data": {
      "text/plain": [
       "-1.0     14097\n",
       " 0.0    247329\n",
       " 1.0     14125\n",
       "dtype: int64"
      ]
     },
     "metadata": {},
     "execution_count": 40
    }
   ],
   "source": [
    "xtreme_counts.sum(axis=1)"
   ]
  },
  {
   "source": [
    "---\n",
    "## ohne anthropogen beeinflusste Stationen"
   ],
   "cell_type": "markdown",
   "metadata": {}
  },
  {
   "cell_type": "code",
   "execution_count": 41,
   "metadata": {},
   "outputs": [
    {
     "output_type": "execute_result",
     "data": {
      "text/plain": [
       "            HE_9523  HE_10223   HE_8872  HE_10225  HE_9482  HE_8883  HE_10214  \\\n",
       "Datum                                                                           \n",
       "2008-01-07      NaN       NaN       NaN       NaN      NaN      NaN       NaN   \n",
       "2008-01-14      NaN       NaN       NaN       NaN      NaN      NaN       NaN   \n",
       "2008-01-21      NaN       NaN       NaN       NaN      NaN      NaN       NaN   \n",
       "2008-01-28      NaN       NaN       NaN       NaN      NaN      NaN       NaN   \n",
       "2008-02-04      NaN  0.353333  0.313333  1.113333    0.850    0.765  0.133333   \n",
       "...             ...       ...       ...       ...      ...      ...       ...   \n",
       "2016-11-28      NaN       NaN       NaN       NaN      NaN      NaN       NaN   \n",
       "2016-12-05     0.24 -0.020000  0.045000 -0.050000    0.215    0.220  0.040000   \n",
       "2016-12-12    -0.15 -0.150000 -0.360000 -0.310000   -0.520   -0.060  0.020000   \n",
       "2016-12-19    -0.19 -0.180000 -0.310000 -0.380000   -0.260   -0.050  0.010000   \n",
       "2016-12-26      NaN       NaN       NaN       NaN      NaN      NaN       NaN   \n",
       "\n",
       "             HE_9518  HE_10224  HE_10291  ...  HE_6770   HE_8496   HE_8890  \\\n",
       "Datum                                     ...                                \n",
       "2008-01-07       NaN       NaN       NaN  ...      NaN       NaN       NaN   \n",
       "2008-01-14       NaN       NaN       NaN  ...      NaN       NaN       NaN   \n",
       "2008-01-21       NaN       NaN       NaN  ...      NaN       NaN       NaN   \n",
       "2008-01-28       NaN       NaN       NaN  ...      NaN       NaN       NaN   \n",
       "2008-02-04  0.243333  0.316667  0.133333  ...     0.51  0.343333  0.186667   \n",
       "...              ...       ...       ...  ...      ...       ...       ...   \n",
       "2016-11-28       NaN       NaN       NaN  ...      NaN       NaN       NaN   \n",
       "2016-12-05 -0.005000  0.150000  0.040000  ...      NaN  0.235000       NaN   \n",
       "2016-12-12 -0.070000 -0.080000 -0.040000  ...      NaN -0.490000       NaN   \n",
       "2016-12-19 -0.080000 -0.120000 -0.040000  ...      NaN -0.380000       NaN   \n",
       "2016-12-26       NaN       NaN       NaN  ...      NaN       NaN       NaN   \n",
       "\n",
       "             HE_7945   HE_6363   HE_8999  HE_8957   HE_6362  HE_15651  \\\n",
       "Datum                                                                   \n",
       "2008-01-07       NaN       NaN       NaN      NaN       NaN       NaN   \n",
       "2008-01-14       NaN       NaN       NaN      NaN       NaN       NaN   \n",
       "2008-01-21       NaN       NaN       NaN      NaN       NaN       NaN   \n",
       "2008-01-28       NaN       NaN       NaN      NaN       NaN       NaN   \n",
       "2008-02-04 -0.066667  0.056667  1.383333    0.790  0.123333  1.296667   \n",
       "...              ...       ...       ...      ...       ...       ...   \n",
       "2016-11-28       NaN       NaN       NaN      NaN       NaN       NaN   \n",
       "2016-12-05  0.285000 -0.005000  0.625000    0.475  0.010000  0.225000   \n",
       "2016-12-12 -0.090000  0.000000 -0.200000   -0.190 -0.020000 -0.080000   \n",
       "2016-12-19 -0.310000  0.010000 -0.200000   -0.340  0.010000 -0.050000   \n",
       "2016-12-26       NaN       NaN       NaN      NaN       NaN       NaN   \n",
       "\n",
       "             HE_6156  \n",
       "Datum                 \n",
       "2008-01-07       NaN  \n",
       "2008-01-14       NaN  \n",
       "2008-01-21       NaN  \n",
       "2008-01-28       NaN  \n",
       "2008-02-04  0.016667  \n",
       "...              ...  \n",
       "2016-11-28       NaN  \n",
       "2016-12-05 -0.110000  \n",
       "2016-12-12 -0.120000  \n",
       "2016-12-19 -0.060000  \n",
       "2016-12-26       NaN  \n",
       "\n",
       "[469 rows x 329 columns]"
      ],
      "text/html": "<div>\n<style scoped>\n    .dataframe tbody tr th:only-of-type {\n        vertical-align: middle;\n    }\n\n    .dataframe tbody tr th {\n        vertical-align: top;\n    }\n\n    .dataframe thead th {\n        text-align: right;\n    }\n</style>\n<table border=\"1\" class=\"dataframe\">\n  <thead>\n    <tr style=\"text-align: right;\">\n      <th></th>\n      <th>HE_9523</th>\n      <th>HE_10223</th>\n      <th>HE_8872</th>\n      <th>HE_10225</th>\n      <th>HE_9482</th>\n      <th>HE_8883</th>\n      <th>HE_10214</th>\n      <th>HE_9518</th>\n      <th>HE_10224</th>\n      <th>HE_10291</th>\n      <th>...</th>\n      <th>HE_6770</th>\n      <th>HE_8496</th>\n      <th>HE_8890</th>\n      <th>HE_7945</th>\n      <th>HE_6363</th>\n      <th>HE_8999</th>\n      <th>HE_8957</th>\n      <th>HE_6362</th>\n      <th>HE_15651</th>\n      <th>HE_6156</th>\n    </tr>\n    <tr>\n      <th>Datum</th>\n      <th></th>\n      <th></th>\n      <th></th>\n      <th></th>\n      <th></th>\n      <th></th>\n      <th></th>\n      <th></th>\n      <th></th>\n      <th></th>\n      <th></th>\n      <th></th>\n      <th></th>\n      <th></th>\n      <th></th>\n      <th></th>\n      <th></th>\n      <th></th>\n      <th></th>\n      <th></th>\n      <th></th>\n    </tr>\n  </thead>\n  <tbody>\n    <tr>\n      <th>2008-01-07</th>\n      <td>NaN</td>\n      <td>NaN</td>\n      <td>NaN</td>\n      <td>NaN</td>\n      <td>NaN</td>\n      <td>NaN</td>\n      <td>NaN</td>\n      <td>NaN</td>\n      <td>NaN</td>\n      <td>NaN</td>\n      <td>...</td>\n      <td>NaN</td>\n      <td>NaN</td>\n      <td>NaN</td>\n      <td>NaN</td>\n      <td>NaN</td>\n      <td>NaN</td>\n      <td>NaN</td>\n      <td>NaN</td>\n      <td>NaN</td>\n      <td>NaN</td>\n    </tr>\n    <tr>\n      <th>2008-01-14</th>\n      <td>NaN</td>\n      <td>NaN</td>\n      <td>NaN</td>\n      <td>NaN</td>\n      <td>NaN</td>\n      <td>NaN</td>\n      <td>NaN</td>\n      <td>NaN</td>\n      <td>NaN</td>\n      <td>NaN</td>\n      <td>...</td>\n      <td>NaN</td>\n      <td>NaN</td>\n      <td>NaN</td>\n      <td>NaN</td>\n      <td>NaN</td>\n      <td>NaN</td>\n      <td>NaN</td>\n      <td>NaN</td>\n      <td>NaN</td>\n      <td>NaN</td>\n    </tr>\n    <tr>\n      <th>2008-01-21</th>\n      <td>NaN</td>\n      <td>NaN</td>\n      <td>NaN</td>\n      <td>NaN</td>\n      <td>NaN</td>\n      <td>NaN</td>\n      <td>NaN</td>\n      <td>NaN</td>\n      <td>NaN</td>\n      <td>NaN</td>\n      <td>...</td>\n      <td>NaN</td>\n      <td>NaN</td>\n      <td>NaN</td>\n      <td>NaN</td>\n      <td>NaN</td>\n      <td>NaN</td>\n      <td>NaN</td>\n      <td>NaN</td>\n      <td>NaN</td>\n      <td>NaN</td>\n    </tr>\n    <tr>\n      <th>2008-01-28</th>\n      <td>NaN</td>\n      <td>NaN</td>\n      <td>NaN</td>\n      <td>NaN</td>\n      <td>NaN</td>\n      <td>NaN</td>\n      <td>NaN</td>\n      <td>NaN</td>\n      <td>NaN</td>\n      <td>NaN</td>\n      <td>...</td>\n      <td>NaN</td>\n      <td>NaN</td>\n      <td>NaN</td>\n      <td>NaN</td>\n      <td>NaN</td>\n      <td>NaN</td>\n      <td>NaN</td>\n      <td>NaN</td>\n      <td>NaN</td>\n      <td>NaN</td>\n    </tr>\n    <tr>\n      <th>2008-02-04</th>\n      <td>NaN</td>\n      <td>0.353333</td>\n      <td>0.313333</td>\n      <td>1.113333</td>\n      <td>0.850</td>\n      <td>0.765</td>\n      <td>0.133333</td>\n      <td>0.243333</td>\n      <td>0.316667</td>\n      <td>0.133333</td>\n      <td>...</td>\n      <td>0.51</td>\n      <td>0.343333</td>\n      <td>0.186667</td>\n      <td>-0.066667</td>\n      <td>0.056667</td>\n      <td>1.383333</td>\n      <td>0.790</td>\n      <td>0.123333</td>\n      <td>1.296667</td>\n      <td>0.016667</td>\n    </tr>\n    <tr>\n      <th>...</th>\n      <td>...</td>\n      <td>...</td>\n      <td>...</td>\n      <td>...</td>\n      <td>...</td>\n      <td>...</td>\n      <td>...</td>\n      <td>...</td>\n      <td>...</td>\n      <td>...</td>\n      <td>...</td>\n      <td>...</td>\n      <td>...</td>\n      <td>...</td>\n      <td>...</td>\n      <td>...</td>\n      <td>...</td>\n      <td>...</td>\n      <td>...</td>\n      <td>...</td>\n      <td>...</td>\n    </tr>\n    <tr>\n      <th>2016-11-28</th>\n      <td>NaN</td>\n      <td>NaN</td>\n      <td>NaN</td>\n      <td>NaN</td>\n      <td>NaN</td>\n      <td>NaN</td>\n      <td>NaN</td>\n      <td>NaN</td>\n      <td>NaN</td>\n      <td>NaN</td>\n      <td>...</td>\n      <td>NaN</td>\n      <td>NaN</td>\n      <td>NaN</td>\n      <td>NaN</td>\n      <td>NaN</td>\n      <td>NaN</td>\n      <td>NaN</td>\n      <td>NaN</td>\n      <td>NaN</td>\n      <td>NaN</td>\n    </tr>\n    <tr>\n      <th>2016-12-05</th>\n      <td>0.24</td>\n      <td>-0.020000</td>\n      <td>0.045000</td>\n      <td>-0.050000</td>\n      <td>0.215</td>\n      <td>0.220</td>\n      <td>0.040000</td>\n      <td>-0.005000</td>\n      <td>0.150000</td>\n      <td>0.040000</td>\n      <td>...</td>\n      <td>NaN</td>\n      <td>0.235000</td>\n      <td>NaN</td>\n      <td>0.285000</td>\n      <td>-0.005000</td>\n      <td>0.625000</td>\n      <td>0.475</td>\n      <td>0.010000</td>\n      <td>0.225000</td>\n      <td>-0.110000</td>\n    </tr>\n    <tr>\n      <th>2016-12-12</th>\n      <td>-0.15</td>\n      <td>-0.150000</td>\n      <td>-0.360000</td>\n      <td>-0.310000</td>\n      <td>-0.520</td>\n      <td>-0.060</td>\n      <td>0.020000</td>\n      <td>-0.070000</td>\n      <td>-0.080000</td>\n      <td>-0.040000</td>\n      <td>...</td>\n      <td>NaN</td>\n      <td>-0.490000</td>\n      <td>NaN</td>\n      <td>-0.090000</td>\n      <td>0.000000</td>\n      <td>-0.200000</td>\n      <td>-0.190</td>\n      <td>-0.020000</td>\n      <td>-0.080000</td>\n      <td>-0.120000</td>\n    </tr>\n    <tr>\n      <th>2016-12-19</th>\n      <td>-0.19</td>\n      <td>-0.180000</td>\n      <td>-0.310000</td>\n      <td>-0.380000</td>\n      <td>-0.260</td>\n      <td>-0.050</td>\n      <td>0.010000</td>\n      <td>-0.080000</td>\n      <td>-0.120000</td>\n      <td>-0.040000</td>\n      <td>...</td>\n      <td>NaN</td>\n      <td>-0.380000</td>\n      <td>NaN</td>\n      <td>-0.310000</td>\n      <td>0.010000</td>\n      <td>-0.200000</td>\n      <td>-0.340</td>\n      <td>0.010000</td>\n      <td>-0.050000</td>\n      <td>-0.060000</td>\n    </tr>\n    <tr>\n      <th>2016-12-26</th>\n      <td>NaN</td>\n      <td>NaN</td>\n      <td>NaN</td>\n      <td>NaN</td>\n      <td>NaN</td>\n      <td>NaN</td>\n      <td>NaN</td>\n      <td>NaN</td>\n      <td>NaN</td>\n      <td>NaN</td>\n      <td>...</td>\n      <td>NaN</td>\n      <td>NaN</td>\n      <td>NaN</td>\n      <td>NaN</td>\n      <td>NaN</td>\n      <td>NaN</td>\n      <td>NaN</td>\n      <td>NaN</td>\n      <td>NaN</td>\n      <td>NaN</td>\n    </tr>\n  </tbody>\n</table>\n<p>469 rows × 329 columns</p>\n</div>"
     },
     "metadata": {},
     "execution_count": 41
    }
   ],
   "source": [
    "good_stations = pd.read_csv(data_drive + r'GruV-Net/data/anthropogen-unbeeinflusste-Messstellen/HE_complete.csv', header=0).ProjID.tolist()\n",
    "gw_lvl_dropped = gw_lvl[good_stations].loc['2008-01-01':'2017-01-01']\n",
    "gw_change_dropped = gw_lvl_dropped.diff(periods=4).dropna(axis=1, how='all')\n",
    "gw_change_dropped"
   ]
  },
  {
   "cell_type": "code",
   "execution_count": 42,
   "metadata": {},
   "outputs": [
    {
     "output_type": "stream",
     "name": "stdout",
     "text": [
      "Mean Anz. an Werten:  322.70212765957444\nMax. Anz. an Werten:  346\nMin. Anz. an Werten:  76\nGesamt Anz. an Werten:  106169\n"
     ]
    }
   ],
   "source": [
    "print('Mean Anz. an Werten: ', gw_change_dropped.count().mean())\n",
    "print('Max. Anz. an Werten: ', gw_change_dropped.count().max())\n",
    "print('Min. Anz. an Werten: ', gw_change_dropped.count().min())\n",
    "print('Gesamt Anz. an Werten: ', gw_change_dropped.count().sum())"
   ]
  },
  {
   "cell_type": "code",
   "execution_count": 43,
   "metadata": {},
   "outputs": [],
   "source": [
    "fifth_percentile_dropped = gw_change_dropped.quantile(0.05)\n",
    "ninetyfifth_percentile_dropped = gw_change_dropped.quantile(0.95)"
   ]
  },
  {
   "cell_type": "code",
   "execution_count": 45,
   "metadata": {},
   "outputs": [],
   "source": [
    "gw_xtreme_dropped = gw_change_dropped.copy()\n",
    "for column in gw_change_dropped:\n",
    "    gw_xtreme_dropped[column] = gw_xtreme_dropped[column].mask(gw_xtreme_dropped[column] < fifth_percentile_dropped[column], -1)\n",
    "    gw_xtreme_dropped[column] = gw_xtreme_dropped[column].mask(gw_xtreme_dropped[column] > ninetyfifth_percentile_dropped[column], 1)\n",
    "    gw_xtreme_dropped[column] = gw_xtreme_dropped[column].mask((gw_xtreme_dropped[column] != -1)&(gw_xtreme_dropped[column] != 1)&(gw_xtreme_dropped[column].notna()), 0)"
   ]
  },
  {
   "cell_type": "code",
   "execution_count": 46,
   "metadata": {},
   "outputs": [
    {
     "output_type": "execute_result",
     "data": {
      "text/plain": [
       "            HE_9523  HE_10223  HE_8872  HE_10225  HE_9482  HE_8883  HE_10214  \\\n",
       "Datum                                                                          \n",
       "2008-01-07      NaN       NaN      NaN       NaN      NaN      NaN       NaN   \n",
       "2008-01-14      NaN       NaN      NaN       NaN      NaN      NaN       NaN   \n",
       "2008-01-21      NaN       NaN      NaN       NaN      NaN      NaN       NaN   \n",
       "2008-01-28      NaN       NaN      NaN       NaN      NaN      NaN       NaN   \n",
       "2008-02-04      NaN       1.0      0.0       1.0      1.0      1.0       1.0   \n",
       "...             ...       ...      ...       ...      ...      ...       ...   \n",
       "2016-11-28      NaN       NaN      NaN       NaN      NaN      NaN       NaN   \n",
       "2016-12-05      0.0       0.0      0.0       0.0      0.0      0.0       0.0   \n",
       "2016-12-12      0.0       0.0      0.0       0.0      0.0      0.0       0.0   \n",
       "2016-12-19      0.0       0.0      0.0       0.0      0.0      0.0       0.0   \n",
       "2016-12-26      NaN       NaN      NaN       NaN      NaN      NaN       NaN   \n",
       "\n",
       "            HE_9518  HE_10224  HE_10291  ...  HE_6770  HE_8496  HE_8890  \\\n",
       "Datum                                    ...                              \n",
       "2008-01-07      NaN       NaN       NaN  ...      NaN      NaN      NaN   \n",
       "2008-01-14      NaN       NaN       NaN  ...      NaN      NaN      NaN   \n",
       "2008-01-21      NaN       NaN       NaN  ...      NaN      NaN      NaN   \n",
       "2008-01-28      NaN       NaN       NaN  ...      NaN      NaN      NaN   \n",
       "2008-02-04      0.0       1.0       0.0  ...      0.0      0.0      1.0   \n",
       "...             ...       ...       ...  ...      ...      ...      ...   \n",
       "2016-11-28      NaN       NaN       NaN  ...      NaN      NaN      NaN   \n",
       "2016-12-05      0.0       0.0       0.0  ...      NaN      0.0      NaN   \n",
       "2016-12-12      0.0       0.0       0.0  ...      NaN      0.0      NaN   \n",
       "2016-12-19      0.0       0.0       0.0  ...      NaN      0.0      NaN   \n",
       "2016-12-26      NaN       NaN       NaN  ...      NaN      NaN      NaN   \n",
       "\n",
       "            HE_7945  HE_6363  HE_8999  HE_8957  HE_6362  HE_15651  HE_6156  \n",
       "Datum                                                                       \n",
       "2008-01-07      NaN      NaN      NaN      NaN      NaN       NaN      NaN  \n",
       "2008-01-14      NaN      NaN      NaN      NaN      NaN       NaN      NaN  \n",
       "2008-01-21      NaN      NaN      NaN      NaN      NaN       NaN      NaN  \n",
       "2008-01-28      NaN      NaN      NaN      NaN      NaN       NaN      NaN  \n",
       "2008-02-04      0.0      0.0      0.0      0.0      1.0       1.0      0.0  \n",
       "...             ...      ...      ...      ...      ...       ...      ...  \n",
       "2016-11-28      NaN      NaN      NaN      NaN      NaN       NaN      NaN  \n",
       "2016-12-05      0.0      0.0      0.0      0.0      0.0       0.0      0.0  \n",
       "2016-12-12      0.0      0.0      0.0      0.0      0.0       0.0      0.0  \n",
       "2016-12-19      0.0      0.0      0.0      0.0      0.0       0.0      0.0  \n",
       "2016-12-26      NaN      NaN      NaN      NaN      NaN       NaN      NaN  \n",
       "\n",
       "[469 rows x 329 columns]"
      ],
      "text/html": "<div>\n<style scoped>\n    .dataframe tbody tr th:only-of-type {\n        vertical-align: middle;\n    }\n\n    .dataframe tbody tr th {\n        vertical-align: top;\n    }\n\n    .dataframe thead th {\n        text-align: right;\n    }\n</style>\n<table border=\"1\" class=\"dataframe\">\n  <thead>\n    <tr style=\"text-align: right;\">\n      <th></th>\n      <th>HE_9523</th>\n      <th>HE_10223</th>\n      <th>HE_8872</th>\n      <th>HE_10225</th>\n      <th>HE_9482</th>\n      <th>HE_8883</th>\n      <th>HE_10214</th>\n      <th>HE_9518</th>\n      <th>HE_10224</th>\n      <th>HE_10291</th>\n      <th>...</th>\n      <th>HE_6770</th>\n      <th>HE_8496</th>\n      <th>HE_8890</th>\n      <th>HE_7945</th>\n      <th>HE_6363</th>\n      <th>HE_8999</th>\n      <th>HE_8957</th>\n      <th>HE_6362</th>\n      <th>HE_15651</th>\n      <th>HE_6156</th>\n    </tr>\n    <tr>\n      <th>Datum</th>\n      <th></th>\n      <th></th>\n      <th></th>\n      <th></th>\n      <th></th>\n      <th></th>\n      <th></th>\n      <th></th>\n      <th></th>\n      <th></th>\n      <th></th>\n      <th></th>\n      <th></th>\n      <th></th>\n      <th></th>\n      <th></th>\n      <th></th>\n      <th></th>\n      <th></th>\n      <th></th>\n      <th></th>\n    </tr>\n  </thead>\n  <tbody>\n    <tr>\n      <th>2008-01-07</th>\n      <td>NaN</td>\n      <td>NaN</td>\n      <td>NaN</td>\n      <td>NaN</td>\n      <td>NaN</td>\n      <td>NaN</td>\n      <td>NaN</td>\n      <td>NaN</td>\n      <td>NaN</td>\n      <td>NaN</td>\n      <td>...</td>\n      <td>NaN</td>\n      <td>NaN</td>\n      <td>NaN</td>\n      <td>NaN</td>\n      <td>NaN</td>\n      <td>NaN</td>\n      <td>NaN</td>\n      <td>NaN</td>\n      <td>NaN</td>\n      <td>NaN</td>\n    </tr>\n    <tr>\n      <th>2008-01-14</th>\n      <td>NaN</td>\n      <td>NaN</td>\n      <td>NaN</td>\n      <td>NaN</td>\n      <td>NaN</td>\n      <td>NaN</td>\n      <td>NaN</td>\n      <td>NaN</td>\n      <td>NaN</td>\n      <td>NaN</td>\n      <td>...</td>\n      <td>NaN</td>\n      <td>NaN</td>\n      <td>NaN</td>\n      <td>NaN</td>\n      <td>NaN</td>\n      <td>NaN</td>\n      <td>NaN</td>\n      <td>NaN</td>\n      <td>NaN</td>\n      <td>NaN</td>\n    </tr>\n    <tr>\n      <th>2008-01-21</th>\n      <td>NaN</td>\n      <td>NaN</td>\n      <td>NaN</td>\n      <td>NaN</td>\n      <td>NaN</td>\n      <td>NaN</td>\n      <td>NaN</td>\n      <td>NaN</td>\n      <td>NaN</td>\n      <td>NaN</td>\n      <td>...</td>\n      <td>NaN</td>\n      <td>NaN</td>\n      <td>NaN</td>\n      <td>NaN</td>\n      <td>NaN</td>\n      <td>NaN</td>\n      <td>NaN</td>\n      <td>NaN</td>\n      <td>NaN</td>\n      <td>NaN</td>\n    </tr>\n    <tr>\n      <th>2008-01-28</th>\n      <td>NaN</td>\n      <td>NaN</td>\n      <td>NaN</td>\n      <td>NaN</td>\n      <td>NaN</td>\n      <td>NaN</td>\n      <td>NaN</td>\n      <td>NaN</td>\n      <td>NaN</td>\n      <td>NaN</td>\n      <td>...</td>\n      <td>NaN</td>\n      <td>NaN</td>\n      <td>NaN</td>\n      <td>NaN</td>\n      <td>NaN</td>\n      <td>NaN</td>\n      <td>NaN</td>\n      <td>NaN</td>\n      <td>NaN</td>\n      <td>NaN</td>\n    </tr>\n    <tr>\n      <th>2008-02-04</th>\n      <td>NaN</td>\n      <td>1.0</td>\n      <td>0.0</td>\n      <td>1.0</td>\n      <td>1.0</td>\n      <td>1.0</td>\n      <td>1.0</td>\n      <td>0.0</td>\n      <td>1.0</td>\n      <td>0.0</td>\n      <td>...</td>\n      <td>0.0</td>\n      <td>0.0</td>\n      <td>1.0</td>\n      <td>0.0</td>\n      <td>0.0</td>\n      <td>0.0</td>\n      <td>0.0</td>\n      <td>1.0</td>\n      <td>1.0</td>\n      <td>0.0</td>\n    </tr>\n    <tr>\n      <th>...</th>\n      <td>...</td>\n      <td>...</td>\n      <td>...</td>\n      <td>...</td>\n      <td>...</td>\n      <td>...</td>\n      <td>...</td>\n      <td>...</td>\n      <td>...</td>\n      <td>...</td>\n      <td>...</td>\n      <td>...</td>\n      <td>...</td>\n      <td>...</td>\n      <td>...</td>\n      <td>...</td>\n      <td>...</td>\n      <td>...</td>\n      <td>...</td>\n      <td>...</td>\n      <td>...</td>\n    </tr>\n    <tr>\n      <th>2016-11-28</th>\n      <td>NaN</td>\n      <td>NaN</td>\n      <td>NaN</td>\n      <td>NaN</td>\n      <td>NaN</td>\n      <td>NaN</td>\n      <td>NaN</td>\n      <td>NaN</td>\n      <td>NaN</td>\n      <td>NaN</td>\n      <td>...</td>\n      <td>NaN</td>\n      <td>NaN</td>\n      <td>NaN</td>\n      <td>NaN</td>\n      <td>NaN</td>\n      <td>NaN</td>\n      <td>NaN</td>\n      <td>NaN</td>\n      <td>NaN</td>\n      <td>NaN</td>\n    </tr>\n    <tr>\n      <th>2016-12-05</th>\n      <td>0.0</td>\n      <td>0.0</td>\n      <td>0.0</td>\n      <td>0.0</td>\n      <td>0.0</td>\n      <td>0.0</td>\n      <td>0.0</td>\n      <td>0.0</td>\n      <td>0.0</td>\n      <td>0.0</td>\n      <td>...</td>\n      <td>NaN</td>\n      <td>0.0</td>\n      <td>NaN</td>\n      <td>0.0</td>\n      <td>0.0</td>\n      <td>0.0</td>\n      <td>0.0</td>\n      <td>0.0</td>\n      <td>0.0</td>\n      <td>0.0</td>\n    </tr>\n    <tr>\n      <th>2016-12-12</th>\n      <td>0.0</td>\n      <td>0.0</td>\n      <td>0.0</td>\n      <td>0.0</td>\n      <td>0.0</td>\n      <td>0.0</td>\n      <td>0.0</td>\n      <td>0.0</td>\n      <td>0.0</td>\n      <td>0.0</td>\n      <td>...</td>\n      <td>NaN</td>\n      <td>0.0</td>\n      <td>NaN</td>\n      <td>0.0</td>\n      <td>0.0</td>\n      <td>0.0</td>\n      <td>0.0</td>\n      <td>0.0</td>\n      <td>0.0</td>\n      <td>0.0</td>\n    </tr>\n    <tr>\n      <th>2016-12-19</th>\n      <td>0.0</td>\n      <td>0.0</td>\n      <td>0.0</td>\n      <td>0.0</td>\n      <td>0.0</td>\n      <td>0.0</td>\n      <td>0.0</td>\n      <td>0.0</td>\n      <td>0.0</td>\n      <td>0.0</td>\n      <td>...</td>\n      <td>NaN</td>\n      <td>0.0</td>\n      <td>NaN</td>\n      <td>0.0</td>\n      <td>0.0</td>\n      <td>0.0</td>\n      <td>0.0</td>\n      <td>0.0</td>\n      <td>0.0</td>\n      <td>0.0</td>\n    </tr>\n    <tr>\n      <th>2016-12-26</th>\n      <td>NaN</td>\n      <td>NaN</td>\n      <td>NaN</td>\n      <td>NaN</td>\n      <td>NaN</td>\n      <td>NaN</td>\n      <td>NaN</td>\n      <td>NaN</td>\n      <td>NaN</td>\n      <td>NaN</td>\n      <td>...</td>\n      <td>NaN</td>\n      <td>NaN</td>\n      <td>NaN</td>\n      <td>NaN</td>\n      <td>NaN</td>\n      <td>NaN</td>\n      <td>NaN</td>\n      <td>NaN</td>\n      <td>NaN</td>\n      <td>NaN</td>\n    </tr>\n  </tbody>\n</table>\n<p>469 rows × 329 columns</p>\n</div>"
     },
     "metadata": {},
     "execution_count": 46
    }
   ],
   "source": [
    "gw_xtreme_dropped"
   ]
  },
  {
   "cell_type": "code",
   "execution_count": 47,
   "metadata": {},
   "outputs": [
    {
     "output_type": "execute_result",
     "data": {
      "text/plain": [
       "      HE_9523  HE_10223  HE_8872  HE_10225  HE_9482  HE_8883  HE_10214  \\\n",
       "-1.0       17        18       18        17       18       16        18   \n",
       " 0.0      290       311      310       302      310      284       311   \n",
       " 1.0       16        17       18        17       18       16        17   \n",
       "\n",
       "      HE_9518  HE_10224  HE_10291  ...  HE_6770  HE_8496  HE_8890  HE_7945  \\\n",
       "-1.0       18        17        18  ...       14       18       14       18   \n",
       " 0.0      310       300       310  ...      278      312      246      310   \n",
       " 1.0       18        17        18  ...       16       16       12       18   \n",
       "\n",
       "      HE_6363  HE_8999  HE_8957  HE_6362  HE_15651  HE_6156  \n",
       "-1.0       18       19       18       16        15       18  \n",
       " 0.0      310      309      290      273       260      310  \n",
       " 1.0       18       18       18       16        16       18  \n",
       "\n",
       "[3 rows x 329 columns]"
      ],
      "text/html": "<div>\n<style scoped>\n    .dataframe tbody tr th:only-of-type {\n        vertical-align: middle;\n    }\n\n    .dataframe tbody tr th {\n        vertical-align: top;\n    }\n\n    .dataframe thead th {\n        text-align: right;\n    }\n</style>\n<table border=\"1\" class=\"dataframe\">\n  <thead>\n    <tr style=\"text-align: right;\">\n      <th></th>\n      <th>HE_9523</th>\n      <th>HE_10223</th>\n      <th>HE_8872</th>\n      <th>HE_10225</th>\n      <th>HE_9482</th>\n      <th>HE_8883</th>\n      <th>HE_10214</th>\n      <th>HE_9518</th>\n      <th>HE_10224</th>\n      <th>HE_10291</th>\n      <th>...</th>\n      <th>HE_6770</th>\n      <th>HE_8496</th>\n      <th>HE_8890</th>\n      <th>HE_7945</th>\n      <th>HE_6363</th>\n      <th>HE_8999</th>\n      <th>HE_8957</th>\n      <th>HE_6362</th>\n      <th>HE_15651</th>\n      <th>HE_6156</th>\n    </tr>\n  </thead>\n  <tbody>\n    <tr>\n      <th>-1.0</th>\n      <td>17</td>\n      <td>18</td>\n      <td>18</td>\n      <td>17</td>\n      <td>18</td>\n      <td>16</td>\n      <td>18</td>\n      <td>18</td>\n      <td>17</td>\n      <td>18</td>\n      <td>...</td>\n      <td>14</td>\n      <td>18</td>\n      <td>14</td>\n      <td>18</td>\n      <td>18</td>\n      <td>19</td>\n      <td>18</td>\n      <td>16</td>\n      <td>15</td>\n      <td>18</td>\n    </tr>\n    <tr>\n      <th>0.0</th>\n      <td>290</td>\n      <td>311</td>\n      <td>310</td>\n      <td>302</td>\n      <td>310</td>\n      <td>284</td>\n      <td>311</td>\n      <td>310</td>\n      <td>300</td>\n      <td>310</td>\n      <td>...</td>\n      <td>278</td>\n      <td>312</td>\n      <td>246</td>\n      <td>310</td>\n      <td>310</td>\n      <td>309</td>\n      <td>290</td>\n      <td>273</td>\n      <td>260</td>\n      <td>310</td>\n    </tr>\n    <tr>\n      <th>1.0</th>\n      <td>16</td>\n      <td>17</td>\n      <td>18</td>\n      <td>17</td>\n      <td>18</td>\n      <td>16</td>\n      <td>17</td>\n      <td>18</td>\n      <td>17</td>\n      <td>18</td>\n      <td>...</td>\n      <td>16</td>\n      <td>16</td>\n      <td>12</td>\n      <td>18</td>\n      <td>18</td>\n      <td>18</td>\n      <td>18</td>\n      <td>16</td>\n      <td>16</td>\n      <td>18</td>\n    </tr>\n  </tbody>\n</table>\n<p>3 rows × 329 columns</p>\n</div>"
     },
     "metadata": {},
     "execution_count": 47
    }
   ],
   "source": [
    "xtreme_counts_dropped = gw_xtreme_dropped.apply(pd.Series.value_counts)\n",
    "xtreme_counts_dropped"
   ]
  },
  {
   "cell_type": "code",
   "execution_count": 48,
   "metadata": {},
   "outputs": [
    {
     "output_type": "execute_result",
     "data": {
      "text/plain": [
       "-1.0     16.559271\n",
       " 0.0    289.534954\n",
       " 1.0     16.607903\n",
       "dtype: float64"
      ]
     },
     "metadata": {},
     "execution_count": 48
    }
   ],
   "source": [
    "xtreme_counts_dropped.mean(axis=1)"
   ]
  },
  {
   "cell_type": "code",
   "execution_count": 49,
   "metadata": {},
   "outputs": [
    {
     "output_type": "execute_result",
     "data": {
      "text/plain": [
       "-1.0     5448\n",
       " 0.0    95257\n",
       " 1.0     5464\n",
       "dtype: int64"
      ]
     },
     "metadata": {},
     "execution_count": 49
    }
   ],
   "source": [
    "xtreme_counts_dropped.sum(axis=1)"
   ]
  }
 ]
}